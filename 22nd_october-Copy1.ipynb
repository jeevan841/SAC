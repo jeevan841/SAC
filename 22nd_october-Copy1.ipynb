{
 "cells": [
  {
   "cell_type": "code",
   "execution_count": 1,
   "id": "c0cc8380",
   "metadata": {},
   "outputs": [],
   "source": [
    "import numpy as np"
   ]
  },
  {
   "cell_type": "code",
   "execution_count": 2,
   "id": "9004045d",
   "metadata": {},
   "outputs": [
    {
     "data": {
      "text/plain": [
       "'1.26.2'"
      ]
     },
     "execution_count": 2,
     "metadata": {},
     "output_type": "execute_result"
    }
   ],
   "source": [
    "np.__version__"
   ]
  },
  {
   "cell_type": "code",
   "execution_count": 4,
   "id": "66fba173",
   "metadata": {},
   "outputs": [
    {
     "data": {
      "text/plain": [
       "array([1, 2, 3])"
      ]
     },
     "execution_count": 4,
     "metadata": {},
     "output_type": "execute_result"
    }
   ],
   "source": [
    "array_1=np.array([1,2,3])\n",
    "array_1"
   ]
  },
  {
   "cell_type": "code",
   "execution_count": 5,
   "id": "89e9cb10",
   "metadata": {},
   "outputs": [
    {
     "data": {
      "text/plain": [
       "numpy.ndarray"
      ]
     },
     "execution_count": 5,
     "metadata": {},
     "output_type": "execute_result"
    }
   ],
   "source": [
    "type(array_1)"
   ]
  },
  {
   "cell_type": "code",
   "execution_count": 6,
   "id": "8262c37f",
   "metadata": {},
   "outputs": [
    {
     "data": {
      "text/plain": [
       "array([[1, 2],\n",
       "       [3, 4]])"
      ]
     },
     "execution_count": 6,
     "metadata": {},
     "output_type": "execute_result"
    }
   ],
   "source": [
    "array2=np.array([[1,2],\n",
    "                 [3,4]])\n",
    "array2"
   ]
  },
  {
   "cell_type": "code",
   "execution_count": 8,
   "id": "449682de",
   "metadata": {},
   "outputs": [
    {
     "data": {
      "text/plain": [
       "array([[[1, 2],\n",
       "        [3, 4]],\n",
       "\n",
       "       [[5, 6],\n",
       "        [7, 8]]])"
      ]
     },
     "execution_count": 8,
     "metadata": {},
     "output_type": "execute_result"
    }
   ],
   "source": [
    " array_3d=np.array([[\n",
    "                     [1,2],\n",
    "                     [3,4]\n",
    " ],\n",
    " [                   [5,6],\n",
    "                     [7,8]\n",
    " ]])\n",
    "array_3d"
   ]
  },
  {
   "cell_type": "code",
   "execution_count": 9,
   "id": "1b887c4a",
   "metadata": {},
   "outputs": [
    {
     "data": {
      "text/plain": [
       "array([[[ 1,  2,  3],\n",
       "        [ 4,  5,  6],\n",
       "        [ 7,  8,  9]],\n",
       "\n",
       "       [[10, 11, 12],\n",
       "        [13, 14, 15],\n",
       "        [16, 17, 18]]])"
      ]
     },
     "execution_count": 9,
     "metadata": {},
     "output_type": "execute_result"
    }
   ],
   "source": [
    "array_3d_a=np.array([[\n",
    "                     [1,2,3],\n",
    "                     [4,5,6],\n",
    "                     [7,8,9]\n",
    " ],\n",
    " [                   [10,11,12],\n",
    "                     [13,14,15],\n",
    "                     [16,17,18]\n",
    " ]])\n",
    "array_3d_a"
   ]
  },
  {
   "cell_type": "code",
   "execution_count": 10,
   "id": "6d35482d",
   "metadata": {},
   "outputs": [
    {
     "data": {
      "text/plain": [
       "(2, 3, 3)"
      ]
     },
     "execution_count": 10,
     "metadata": {},
     "output_type": "execute_result"
    }
   ],
   "source": [
    "array_3d_a.shape"
   ]
  },
  {
   "cell_type": "code",
   "execution_count": 13,
   "id": "10b6e289",
   "metadata": {},
   "outputs": [
    {
     "data": {
      "text/plain": [
       "array([[[[[ 1,  2],\n",
       "          [ 3,  4],\n",
       "          [ 5,  6]],\n",
       "\n",
       "         [[ 7,  8],\n",
       "          [ 9, 10],\n",
       "          [11, 12]]],\n",
       "\n",
       "\n",
       "        [[[13, 14],\n",
       "          [15, 16],\n",
       "          [17, 18]],\n",
       "\n",
       "         [[19, 20],\n",
       "          [21, 22],\n",
       "          [23, 24]]],\n",
       "\n",
       "\n",
       "        [[[25, 26],\n",
       "          [27, 28],\n",
       "          [29, 30]],\n",
       "\n",
       "         [[31, 32],\n",
       "          [33, 34],\n",
       "          [35, 36]]]],\n",
       "\n",
       "\n",
       "\n",
       "       [[[[37, 38],\n",
       "          [39, 40],\n",
       "          [41, 42]],\n",
       "\n",
       "         [[43, 44],\n",
       "          [45, 46],\n",
       "          [47, 48]]],\n",
       "\n",
       "\n",
       "        [[[49, 50],\n",
       "          [51, 52],\n",
       "          [53, 54]],\n",
       "\n",
       "         [[55, 56],\n",
       "          [57, 58],\n",
       "          [59, 60]]],\n",
       "\n",
       "\n",
       "        [[[61, 62],\n",
       "          [63, 64],\n",
       "          [65, 66]],\n",
       "\n",
       "         [[67, 68],\n",
       "          [69, 70],\n",
       "          [71, 72]]]]])"
      ]
     },
     "execution_count": 13,
     "metadata": {},
     "output_type": "execute_result"
    }
   ],
   "source": [
    "array_4d=np.array([\n",
    "    [\n",
    "        [[\n",
    "                     [1,2],\n",
    "                     [3,4],\n",
    "                     [5,6]\n",
    " ],\n",
    " [                   [7,8],\n",
    "                     [9,10],\n",
    "                     [11,12]\n",
    " ]],\n",
    "        [[\n",
    "                     [13,14],\n",
    "                     [15,16],\n",
    "                     [17,18]\n",
    " ],\n",
    " [                   [19,20],\n",
    "                     [21,22],\n",
    "                     [23,24]\n",
    " ]],\n",
    "        [[\n",
    "                     [25,26],\n",
    "                     [27,28],\n",
    "                     [29,30]\n",
    " ],\n",
    " [                   [31,32],\n",
    "                     [33,34],\n",
    "                     [35,36]\n",
    " ]]\n",
    "    ],\n",
    "    [\n",
    "        [[\n",
    "                     [37,38],\n",
    "                     [39,40],\n",
    "                     [41,42]\n",
    " ],\n",
    " [                   [43,44],\n",
    "                     [45,46],\n",
    "                     [47,48]\n",
    " ]],\n",
    "        [[\n",
    "                     [49,50],\n",
    "                     [51,52],\n",
    "                     [53,54]\n",
    " ],\n",
    " [                   [55,56],\n",
    "                     [57,58],\n",
    "                     [59,60]\n",
    " ]],\n",
    "        [[\n",
    "                     [61,62],\n",
    "                     [63,64],\n",
    "                     [65,66]\n",
    " ],\n",
    " [                   [67,68],\n",
    "                     [69,70],\n",
    "                     [71,72]\n",
    " ]]\n",
    "    ]\n",
    "])\n",
    "array_4d"
   ]
  },
  {
   "cell_type": "code",
   "execution_count": null,
   "id": "f4085aa3",
   "metadata": {},
   "outputs": [],
   "source": []
  }
 ],
 "metadata": {
  "kernelspec": {
   "display_name": "Python 3 (ipykernel)",
   "language": "python",
   "name": "python3"
  },
  "language_info": {
   "codemirror_mode": {
    "name": "ipython",
    "version": 3
   },
   "file_extension": ".py",
   "mimetype": "text/x-python",
   "name": "python",
   "nbconvert_exporter": "python",
   "pygments_lexer": "ipython3",
   "version": "3.11.4"
  }
 },
 "nbformat": 4,
 "nbformat_minor": 5
}
