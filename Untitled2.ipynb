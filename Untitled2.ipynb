{
 "cells": [
  {
   "cell_type": "code",
   "execution_count": 1,
   "id": "ff80c642",
   "metadata": {},
   "outputs": [],
   "source": [
    "import numpy as nu"
   ]
  },
  {
   "cell_type": "code",
   "execution_count": 2,
   "id": "4719e9ea",
   "metadata": {},
   "outputs": [
    {
     "data": {
      "text/plain": [
       "array([12, 13, 14])"
      ]
     },
     "execution_count": 2,
     "metadata": {},
     "output_type": "execute_result"
    }
   ],
   "source": [
    "array_1=nu.array((12,13,14))\n",
    "array_1"
   ]
  },
  {
   "cell_type": "markdown",
   "id": "d390aa64",
   "metadata": {},
   "source": [
    "standard deviation tells how consistent or scattered the data is!\n",
    "(how good the data is spread)"
   ]
  },
  {
   "cell_type": "markdown",
   "id": "d0b9d198",
   "metadata": {},
   "source": [
    "$$\n",
    "\\sigma = \\sqrt{\\frac{1}{N}\\sum_{i=1}^{N}(x_i - \\mu)^2}\n",
    "$$"
   ]
  },
  {
   "cell_type": "code",
   "execution_count": 3,
   "id": "ea02ba2e",
   "metadata": {},
   "outputs": [
    {
     "name": "stdout",
     "output_type": "stream",
     "text": [
      "Array: [10 20 30 40 50]\n",
      "Mean: 30.0\n",
      "standard deviation: 14.142135623730951\n",
      "Maximum: 50\n",
      "Minimum: 10\n"
     ]
    }
   ],
   "source": [
    "arr = nu.array([10,20,30,40,50])\n",
    "mean_val = nu.mean(arr)\n",
    "std_dev = nu.std(arr)\n",
    "max_val = nu.max(arr)\n",
    "min_val = nu.min(arr)\n",
    "\n",
    "print(\"Array:\", arr)\n",
    "print(\"Mean:\", mean_val)\n",
    "print(\"standard deviation:\",std_dev)\n",
    "print(\"Maximum:\", max_val)\n",
    "print(\"Minimum:\", min_val)"
   ]
  },
  {
   "cell_type": "code",
   "execution_count": 4,
   "id": "771c6ec3",
   "metadata": {},
   "outputs": [
    {
     "name": "stdout",
     "output_type": "stream",
     "text": [
      "matric A:\n",
      " [[1 3]\n",
      " [2 4]]\n",
      "matrix B:\n",
      " [[5 4]\n",
      " [8 5]]\n",
      "matrix multiplication (A X B): [[29 19]\n",
      " [42 28]]\n"
     ]
    }
   ],
   "source": [
    "A = nu.array([[1,3],[2,4]])\n",
    "B = nu.array([[5,4],[8,5]])\n",
    "c = nu.dot(A,B)\n",
    "print(\"matric A:\\n\", A)\n",
    "print(\"matrix B:\\n\", B)\n",
    "print(\"matrix multiplication (A X B):\", c)"
   ]
  },
  {
   "cell_type": "code",
   "execution_count": 5,
   "id": "14e3d2e2",
   "metadata": {},
   "outputs": [
    {
     "name": "stdout",
     "output_type": "stream",
     "text": [
      "2\n"
     ]
    }
   ],
   "source": [
    "print(A.ndim)"
   ]
  },
  {
   "cell_type": "code",
   "execution_count": 6,
   "id": "a6d36bab",
   "metadata": {},
   "outputs": [
    {
     "name": "stdout",
     "output_type": "stream",
     "text": [
      "2\n"
     ]
    }
   ],
   "source": [
    "array_2 = nu.array([1,2,3,4,5,6], ndmin = 2)\n",
    "print(array_2.ndim)"
   ]
  },
  {
   "cell_type": "code",
   "execution_count": 7,
   "id": "6ad57200",
   "metadata": {},
   "outputs": [
    {
     "data": {
      "text/plain": [
       "(1, 6)"
      ]
     },
     "execution_count": 7,
     "metadata": {},
     "output_type": "execute_result"
    }
   ],
   "source": [
    "array_2.shape"
   ]
  },
  {
   "cell_type": "code",
   "execution_count": 8,
   "id": "7522be72",
   "metadata": {},
   "outputs": [
    {
     "name": "stdout",
     "output_type": "stream",
     "text": [
      "3\n"
     ]
    }
   ],
   "source": [
    "print (A[0][1])"
   ]
  },
  {
   "cell_type": "code",
   "execution_count": 9,
   "id": "d8965a0c",
   "metadata": {},
   "outputs": [
    {
     "data": {
      "text/plain": [
       "array([[1. , 2. ],\n",
       "       [3.3, 4. ]])"
      ]
     },
     "execution_count": 9,
     "metadata": {},
     "output_type": "execute_result"
    }
   ],
   "source": [
    "array_3 = nu.array([[1,2],[3.3,4]])\n",
    "array_3"
   ]
  },
  {
   "cell_type": "markdown",
   "id": "1d4512d5",
   "metadata": {},
   "source": [
    "The array will be promoted to float64 because 3.3 is a float, and making the whole array an integer would cause a loss of informantion"
   ]
  },
  {
   "cell_type": "code",
   "execution_count": 11,
   "id": "608b3171",
   "metadata": {},
   "outputs": [
    {
     "data": {
      "text/plain": [
       "array(['a', 'b', 'c'], dtype='<U1')"
      ]
     },
     "execution_count": 11,
     "metadata": {},
     "output_type": "execute_result"
    }
   ],
   "source": [
    "char_arr = nu.array(['a','b','c'])\n",
    "char_arr"
   ]
  },
  {
   "cell_type": "markdown",
   "id": "5fb14c47",
   "metadata": {},
   "source": [
    "dtype = 'U1' \n",
    "where U stands for unicode string(universal character encoder ..)"
   ]
  },
  {
   "cell_type": "code",
   "execution_count": null,
   "id": "17bf5b71",
   "metadata": {},
   "outputs": [],
   "source": [
    "ch_arr = nu.array(['Supervised','unSupervised',''])"
   ]
  }
 ],
 "metadata": {
  "kernelspec": {
   "display_name": "Python 3 (ipykernel)",
   "language": "python",
   "name": "python3"
  },
  "language_info": {
   "codemirror_mode": {
    "name": "ipython",
    "version": 3
   },
   "file_extension": ".py",
   "mimetype": "text/x-python",
   "name": "python",
   "nbconvert_exporter": "python",
   "pygments_lexer": "ipython3",
   "version": "3.11.4"
  }
 },
 "nbformat": 4,
 "nbformat_minor": 5
}
